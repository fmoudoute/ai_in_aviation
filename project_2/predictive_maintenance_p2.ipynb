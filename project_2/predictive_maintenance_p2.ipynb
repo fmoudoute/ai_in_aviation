{
 "cells": [
  {
   "cell_type": "markdown",
   "id": "24d7e339-ed7e-4c17-96b7-f4255e630557",
   "metadata": {
    "collapsed": true,
    "jupyter": {
     "outputs_hidden": true
    }
   },
   "source": [
    "# Landing Gear Failure Prediction"
   ]
  },
  {
   "cell_type": "code",
   "execution_count": null,
   "id": "fa897839-62b5-4b3d-bc5c-eabee1c52829",
   "metadata": {},
   "outputs": [],
   "source": []
  }
 ],
 "metadata": {
  "kernelspec": {
   "display_name": "Python 3 (ipykernel)",
   "language": "python",
   "name": "python3"
  },
  "language_info": {
   "codemirror_mode": {
    "name": "ipython",
    "version": 3
   },
   "file_extension": ".py",
   "mimetype": "text/x-python",
   "name": "python",
   "nbconvert_exporter": "python",
   "pygments_lexer": "ipython3",
   "version": "3.9.24"
  }
 },
 "nbformat": 4,
 "nbformat_minor": 5
}
